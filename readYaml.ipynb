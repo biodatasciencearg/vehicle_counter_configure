{
 "cells": [
  {
   "cell_type": "code",
   "execution_count": 35,
   "id": "afdc7ac4",
   "metadata": {},
   "outputs": [],
   "source": [
    "import sys\n",
    "import ruamel.yaml\n",
    "\n",
    "yaml = ruamel.yaml.YAML()\n",
    "\n",
    "class Configuration():\n",
    "    def __init__(self):\n",
    "        \n",
    "        self.data = None\n",
    "    def read_yaml(self,filename='configuration.yaml'):\n",
    "        with open(filename,'r') as stream:\n",
    "            try:\n",
    "                self.data = yaml.load(stream)\n",
    "            except yaml.YAMLError as exc:\n",
    "                print(exc)\n",
    "    def write_yaml(self,outpath='./configuration.yaml'):\n",
    "        with open(outpath, 'w') as f:\n",
    "            yaml.dump(self.data, f)\n",
    "    def overwrite_vc(self,coordinates=[[1,2,3,4],[5,6,7,8]]):\n",
    "        \"\"\"coordinates: array [[automac],[street]]\"\"\"\n",
    "        # automac update:\n",
    "        keyword = 'automac_coordinates'\n",
    "        if keyword not in self.data['restaurant']['vehicle_counting'].keys():\n",
    "            raise Exception(f'{keyword} not in yaml file')\n",
    "        else:\n",
    "            self.data['restaurant']['vehicle_counting'][keyword].clear()\n",
    "            for coordinate in coordinates[0]:\n",
    "                self.data['restaurant']['vehicle_counting'][keyword].append(coordinate)\n",
    "        # street update:\n",
    "        keyword = 'street_coordinates'\n",
    "        if keyword not in self.data['restaurant']['vehicle_counting'].keys():\n",
    "            raise Exception(f'{keyword} not in yaml file')\n",
    "        else:\n",
    "            self.data['restaurant']['vehicle_counting'][keyword].clear()\n",
    "            for coordinate in coordinates[1]:\n",
    "                self.data['restaurant']['vehicle_counting'][keyword].append(coordinate)\n",
    "\n",
    "        "
   ]
  },
  {
   "cell_type": "code",
   "execution_count": 30,
   "id": "a5ab162b",
   "metadata": {},
   "outputs": [],
   "source": [
    "config = Configuration()"
   ]
  },
  {
   "cell_type": "code",
   "execution_count": 36,
   "id": "e4715925",
   "metadata": {},
   "outputs": [],
   "source": [
    "config.read_yaml('./configuration2.yaml')"
   ]
  },
  {
   "cell_type": "code",
   "execution_count": null,
   "id": "73b45256",
   "metadata": {},
   "outputs": [],
   "source": []
  }
 ],
 "metadata": {
  "kernelspec": {
   "display_name": "Python 3 (ipykernel)",
   "language": "python",
   "name": "python3"
  },
  "language_info": {
   "codemirror_mode": {
    "name": "ipython",
    "version": 3
   },
   "file_extension": ".py",
   "mimetype": "text/x-python",
   "name": "python",
   "nbconvert_exporter": "python",
   "pygments_lexer": "ipython3",
   "version": "3.9.13"
  }
 },
 "nbformat": 4,
 "nbformat_minor": 5
}
